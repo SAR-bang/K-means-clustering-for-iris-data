{
  "nbformat": 4,
  "nbformat_minor": 0,
  "metadata": {
    "colab": {
      "name": "Classification using DT.ipynb",
      "provenance": [],
      "collapsed_sections": [],
      "authorship_tag": "ABX9TyO27TNooJuZI0bYSFqOODYo",
      "include_colab_link": true
    },
    "kernelspec": {
      "name": "python3",
      "display_name": "Python 3"
    },
    "language_info": {
      "name": "python"
    }
  },
  "cells": [
    {
      "cell_type": "markdown",
      "metadata": {
        "id": "view-in-github",
        "colab_type": "text"
      },
      "source": [
        "<a href=\"https://colab.research.google.com/github/SAR-bang/K-means-clustering-for-iris-data/blob/main/Classification_using_DT.ipynb\" target=\"_parent\"><img src=\"https://colab.research.google.com/assets/colab-badge.svg\" alt=\"Open In Colab\"/></a>"
      ]
    },
    {
      "cell_type": "code",
      "metadata": {
        "id": "_FyP4ajiwmMd"
      },
      "source": [
        "from sklearn.datasets import make_classification\n",
        "import pandas as pd\n",
        "import seaborn as sns\n",
        "from matplotlib import pyplot as plt\n",
        "\n",
        "from sklearn.model_selection import train_test_split\n",
        "from sklearn.tree import DecisionTreeClassifier\n",
        "from sklearn.metrics import confusion_matrix \n",
        "from sklearn.metrics import classification_report"
      ],
      "execution_count": 28,
      "outputs": []
    },
    {
      "cell_type": "code",
      "metadata": {
        "id": "lQRou9GJxUd0"
      },
      "source": [
        "features,target = make_classification(\n",
        "    n_samples=200, n_features=4, n_classes=3, n_clusters_per_class=1, random_state=11\n",
        ")"
      ],
      "execution_count": 2,
      "outputs": []
    },
    {
      "cell_type": "code",
      "metadata": {
        "colab": {
          "base_uri": "https://localhost:8080/"
        },
        "id": "FfV4VcgVxlNg",
        "outputId": "fa50595b-9ee3-4339-979d-2dfe870dc135"
      },
      "source": [
        "features.shape #4 attributes"
      ],
      "execution_count": 5,
      "outputs": [
        {
          "output_type": "execute_result",
          "data": {
            "text/plain": [
              "(200, 4)"
            ]
          },
          "metadata": {
            "tags": []
          },
          "execution_count": 5
        }
      ]
    },
    {
      "cell_type": "code",
      "metadata": {
        "id": "R-pmWqvMxmeS"
      },
      "source": [
        "feature_names = ['age','density','weight','height']\n",
        "df = pd.DataFrame(features,columns=feature_names)"
      ],
      "execution_count": 9,
      "outputs": []
    },
    {
      "cell_type": "code",
      "metadata": {
        "id": "0ya7tN8LyUqG"
      },
      "source": [
        "target_df = pd.DataFrame(target,columns=['gender'])\n"
      ],
      "execution_count": 10,
      "outputs": []
    },
    {
      "cell_type": "code",
      "metadata": {
        "colab": {
          "base_uri": "https://localhost:8080/",
          "height": 204
        },
        "id": "00Qq3aaMynV8",
        "outputId": "c24e03c6-72bc-4205-deea-6cf6568df9dd"
      },
      "source": [
        "input_df = pd.concat([df,target_df],axis=1)\n",
        "input_df.head()"
      ],
      "execution_count": 23,
      "outputs": [
        {
          "output_type": "execute_result",
          "data": {
            "text/html": [
              "<div>\n",
              "<style scoped>\n",
              "    .dataframe tbody tr th:only-of-type {\n",
              "        vertical-align: middle;\n",
              "    }\n",
              "\n",
              "    .dataframe tbody tr th {\n",
              "        vertical-align: top;\n",
              "    }\n",
              "\n",
              "    .dataframe thead th {\n",
              "        text-align: right;\n",
              "    }\n",
              "</style>\n",
              "<table border=\"1\" class=\"dataframe\">\n",
              "  <thead>\n",
              "    <tr style=\"text-align: right;\">\n",
              "      <th></th>\n",
              "      <th>age</th>\n",
              "      <th>density</th>\n",
              "      <th>weight</th>\n",
              "      <th>height</th>\n",
              "      <th>gender</th>\n",
              "    </tr>\n",
              "  </thead>\n",
              "  <tbody>\n",
              "    <tr>\n",
              "      <th>0</th>\n",
              "      <td>0.150111</td>\n",
              "      <td>-2.170041</td>\n",
              "      <td>3.077320</td>\n",
              "      <td>-1.892045</td>\n",
              "      <td>2</td>\n",
              "    </tr>\n",
              "    <tr>\n",
              "      <th>1</th>\n",
              "      <td>-1.554101</td>\n",
              "      <td>-2.154415</td>\n",
              "      <td>1.051047</td>\n",
              "      <td>0.247307</td>\n",
              "      <td>0</td>\n",
              "    </tr>\n",
              "    <tr>\n",
              "      <th>2</th>\n",
              "      <td>-1.399630</td>\n",
              "      <td>-0.295281</td>\n",
              "      <td>-1.252276</td>\n",
              "      <td>1.514959</td>\n",
              "      <td>0</td>\n",
              "    </tr>\n",
              "    <tr>\n",
              "      <th>3</th>\n",
              "      <td>-0.297809</td>\n",
              "      <td>-3.191558</td>\n",
              "      <td>3.915697</td>\n",
              "      <td>-2.135440</td>\n",
              "      <td>2</td>\n",
              "    </tr>\n",
              "    <tr>\n",
              "      <th>4</th>\n",
              "      <td>-0.798319</td>\n",
              "      <td>0.884249</td>\n",
              "      <td>-2.121370</td>\n",
              "      <td>1.691031</td>\n",
              "      <td>1</td>\n",
              "    </tr>\n",
              "  </tbody>\n",
              "</table>\n",
              "</div>"
            ],
            "text/plain": [
              "        age   density    weight    height  gender\n",
              "0  0.150111 -2.170041  3.077320 -1.892045       2\n",
              "1 -1.554101 -2.154415  1.051047  0.247307       0\n",
              "2 -1.399630 -0.295281 -1.252276  1.514959       0\n",
              "3 -0.297809 -3.191558  3.915697 -2.135440       2\n",
              "4 -0.798319  0.884249 -2.121370  1.691031       1"
            ]
          },
          "metadata": {
            "tags": []
          },
          "execution_count": 23
        }
      ]
    },
    {
      "cell_type": "code",
      "metadata": {
        "colab": {
          "base_uri": "https://localhost:8080/",
          "height": 383
        },
        "id": "1YF-AiaWysQ4",
        "outputId": "f8337cff-836e-47ed-ee59-817448d73f8c"
      },
      "source": [
        "sns.relplot(\n",
        "    x='age', y='density', hue='gender', style='gender', data=input_df, palette='cool')\n",
        "plt.show()"
      ],
      "execution_count": 26,
      "outputs": [
        {
          "output_type": "display_data",
          "data": {
            "image/png": "[encoded data removed]",
            "text/plain": [
              "<Figure size 403.5x360 with 1 Axes>"
            ]
          },
          "metadata": {
            "tags": [],
            "needs_background": "light"
          }
        }
      ]
    },
    {
      "cell_type": "code",
      "metadata": {
        "id": "cgKQ0PclzOEL"
      },
      "source": [
        "# Splitting data\n",
        "training_features, test_features, training_target, test_target = train_test_split(\n",
        "    features, target, random_state=0)"
      ],
      "execution_count": 29,
      "outputs": []
    },
    {
      "cell_type": "code",
      "metadata": {
        "colab": {
          "base_uri": "https://localhost:8080/"
        },
        "id": "7s3XTFCC0pAc",
        "outputId": "59ac59cb-b11a-406d-93eb-f579b7022fe4"
      },
      "source": [
        "dtc = DecisionTreeClassifier(criterion='entropy')\n",
        "dtc"
      ],
      "execution_count": 30,
      "outputs": [
        {
          "output_type": "execute_result",
          "data": {
            "text/plain": [
              "DecisionTreeClassifier(ccp_alpha=0.0, class_weight=None, criterion='entropy',\n",
              "                       max_depth=None, max_features=None, max_leaf_nodes=None,\n",
              "                       min_impurity_decrease=0.0, min_impurity_split=None,\n",
              "                       min_samples_leaf=1, min_samples_split=2,\n",
              "                       min_weight_fraction_leaf=0.0, presort='deprecated',\n",
              "                       random_state=None, splitter='best')"
            ]
          },
          "metadata": {
            "tags": []
          },
          "execution_count": 30
        }
      ]
    },
    {
      "cell_type": "code",
      "metadata": {
        "id": "aa9N3scw045V"
      },
      "source": [
        "model = dtc.fit(training_features, training_target)"
      ],
      "execution_count": 31,
      "outputs": []
    },
    {
      "cell_type": "code",
      "metadata": {
        "colab": {
          "base_uri": "https://localhost:8080/"
        },
        "id": "2jAuZv9Y0-ec",
        "outputId": "9b0c36d9-0930-408c-b562-898dbdca53bf"
      },
      "source": [
        "predictions = model.predict(test_features)\n",
        "predictions"
      ],
      "execution_count": 36,
      "outputs": [
        {
          "output_type": "execute_result",
          "data": {
            "text/plain": [
              "array([2, 2, 1, 0, 1, 2, 1, 0, 1, 0, 0, 0, 1, 1, 0, 0, 2, 0, 0, 1, 2, 0,\n",
              "       0, 2, 0, 2, 2, 1, 1, 1, 2, 2, 1, 0, 1, 0, 1, 1, 0, 0, 0, 2, 0, 2,\n",
              "       1, 0, 1, 0, 2, 2])"
            ]
          },
          "metadata": {
            "tags": []
          },
          "execution_count": 36
        }
      ]
    },
    {
      "cell_type": "code",
      "metadata": {
        "id": "_jOJNbKl1AqH"
      },
      "source": [
        "matrix = confusion_matrix(test_target, predictions)"
      ],
      "execution_count": 33,
      "outputs": []
    },
    {
      "cell_type": "code",
      "metadata": {
        "colab": {
          "base_uri": "https://localhost:8080/"
        },
        "id": "3u2aCZo51Cor",
        "outputId": "a4f4d6bf-b8e5-4bf4-d90d-e432d8fc79aa"
      },
      "source": [
        "print(matrix)"
      ],
      "execution_count": 34,
      "outputs": [
        {
          "output_type": "stream",
          "text": [
            "[[16  0  0]\n",
            " [ 2 14  0]\n",
            " [ 2  2 14]]\n"
          ],
          "name": "stdout"
        }
      ]
    },
    {
      "cell_type": "code",
      "metadata": {
        "colab": {
          "base_uri": "https://localhost:8080/"
        },
        "id": "a4BCvCKl1Gqx",
        "outputId": "462ca22b-073e-4477-bd96-5348a83148b1"
      },
      "source": [
        "print(classification_report(test_target, predictions))"
      ],
      "execution_count": 35,
      "outputs": [
        {
          "output_type": "stream",
          "text": [
            "              precision    recall  f1-score   support\n",
            "\n",
            "           0       0.80      1.00      0.89        16\n",
            "           1       0.88      0.88      0.88        16\n",
            "           2       1.00      0.78      0.88        18\n",
            "\n",
            "    accuracy                           0.88        50\n",
            "   macro avg       0.89      0.88      0.88        50\n",
            "weighted avg       0.90      0.88      0.88        50\n",
            "\n"
          ],
          "name": "stdout"
        }
      ]
    },
    {
      "cell_type": "code",
      "metadata": {
        "id": "A-FoUfLj1KQH"
      },
      "source": [
        ""
      ],
      "execution_count": null,
      "outputs": []
    }
  ]
}